{
 "cells": [
  {
   "cell_type": "code",
   "execution_count": null,
   "metadata": {},
   "outputs": [],
   "source": [
    "import pandas as pd\n",
    "import matplotlib.pyplot as plt\n",
    "import seaborn as sns \n",
    "from tqdm import tqdm\n",
    "import numpy as np"
   ]
  },
  {
   "cell_type": "code",
   "execution_count": null,
   "metadata": {},
   "outputs": [],
   "source": [
    "data = pd.read_csv(\"dataset_mood_smartphone.csv\", index_col=0)              # Load the data                                                    "
   ]
  },
  {
   "cell_type": "code",
   "execution_count": null,
   "metadata": {},
   "outputs": [],
   "source": [
    "data.tail(), data.columns"
   ]
  },
  {
   "cell_type": "code",
   "execution_count": null,
   "metadata": {},
   "outputs": [],
   "source": [
    "# Pivot the dataset to have each variable as a column\n",
    "data_pivoted = data.pivot_table(index=['id', 'time'], columns='variable', values='value', aggfunc='first').reset_index()\n",
    "\n",
    "# Show the transformed data\n",
    "data_pivoted.head()"
   ]
  },
  {
   "cell_type": "code",
   "execution_count": null,
   "metadata": {},
   "outputs": [],
   "source": [
    "# Dataset summary\n",
    "summary = {\n",
    "    \"Number of Records\": len(data_pivoted),\n",
    "    \"Number of Attributes\": len(data_pivoted.columns),\n",
    "    \"Attribute Types\": data_pivoted.dtypes,\n",
    "    \"Missing Values\": data_pivoted.isnull().sum(),\n",
    "    \"Range of Numeric Values\": data_pivoted.describe().loc[['min', 'max']],\n",
    "}\n",
    "\n",
    "# Prepare descriptions for numeric attributes\n",
    "numerical_descriptions = data_pivoted.describe()\n",
    "\n",
    "numerical_descriptions\n"
   ]
  },
  {
   "cell_type": "code",
   "execution_count": null,
   "metadata": {},
   "outputs": [],
   "source": [
    "data_pivoted.info()"
   ]
  },
  {
   "cell_type": "code",
   "execution_count": null,
   "metadata": {},
   "outputs": [],
   "source": [
    "data_pivoted.describe()"
   ]
  },
  {
   "cell_type": "code",
   "execution_count": null,
   "metadata": {},
   "outputs": [],
   "source": [
    "# Set up the figure layout to accommodate multiple plots\n",
    "fig, axes = plt.subplots(nrows=5, ncols=4, figsize=(18, 22))\n",
    "axes = axes.flatten()\n",
    "\n",
    "# Plot histograms for each numeric column\n",
    "for i, col in enumerate(data_pivoted.select_dtypes(include='float64').columns):\n",
    "    sns.histplot(data_pivoted[col].dropna(), ax=axes[i], bins=30, kde=False)\n",
    "    axes[i].set_title(f'Distribution of {col}')\n",
    "    axes[i].set_xlabel(col)\n",
    "    axes[i].set_ylabel('Frequency')\n",
    "\n",
    "# Hide any unused subplots\n",
    "for j in range(i+1, len(axes)):\n",
    "    axes[j].set_visible(False)\n",
    "\n",
    "plt.tight_layout()\n",
    "plt.savefig(\"Variable_Distributions.eps\", format='eps')\n",
    "#plt.show()\n"
   ]
  },
  {
   "cell_type": "code",
   "execution_count": null,
   "metadata": {},
   "outputs": [],
   "source": [
    "# Extract all numeric columns for histograms (excluding 'id' and 'time' which are not numeric)\n",
    "numeric_vars = data_pivoted.select_dtypes(include=['float64', 'int64']).columns\n",
    "# Set up the figure layout to accommodate multiple boxplots\n",
    "fig, axes = plt.subplots(nrows=(len(numeric_vars) // 4 + (len(numeric_vars) % 4 > 0)), ncols=4, figsize=(18, 40))\n",
    "axes = axes.flatten()\n",
    "\n",
    "# Generate boxplots for each numeric column\n",
    "for i, var in enumerate(numeric_vars):\n",
    "    sns.boxplot(y=data_pivoted[var], ax=axes[i], color='skyblue')\n",
    "    axes[i].set_title(f'Boxplot of {var}')\n",
    "    axes[i].set_ylabel(var)\n",
    "\n",
    "# Hide any unused subplots\n",
    "for j in range(i + 1, len(axes)):\n",
    "    axes[j].set_visible(False)\n",
    "\n",
    "plt.tight_layout()\n",
    "plt.savefig(\"Box_plot.eps\", format='eps')\n"
   ]
  },
  {
   "cell_type": "markdown",
   "metadata": {},
   "source": [
    "#### Outlier Analysis"
   ]
  },
  {
   "cell_type": "code",
   "execution_count": null,
   "metadata": {},
   "outputs": [],
   "source": [
    "\n",
    "# Function to calculate outliers using IQR\n",
    "def calculate_outliers(data):\n",
    "    Q1 = data.quantile(0.25)\n",
    "    Q3 = data.quantile(0.75)\n",
    "    IQR = Q3 - Q1\n",
    "    lower_bound = Q1 - 1.5 * IQR\n",
    "    upper_bound = Q3 + 1.5 * IQR\n",
    "    outliers = data[(data < lower_bound) | (data > upper_bound)]\n",
    "    return outliers\n",
    "\n",
    "# Calculate outliers for each variable of interest\n",
    "outlier_counts = {}\n",
    "outlier_percentages = {}\n",
    "\n",
    "# List of all relevant variables including app categories\n",
    "variables = ['mood', 'circumplex.arousal', 'circumplex.valence', 'activity', 'screen', 'call', 'sms',\n",
    "             'appCat.builtin', 'appCat.communication', 'appCat.entertainment', 'appCat.finance', \n",
    "             'appCat.game', 'appCat.office', 'appCat.other', 'appCat.social', 'appCat.travel', \n",
    "             'appCat.unknown', 'appCat.utilities', 'appCat.weather']\n",
    "\n",
    "for var in variables:\n",
    "    if data_pivoted[var].dtype == 'float64' or data_pivoted[var].dtype == 'int64':\n",
    "        outliers = calculate_outliers(data_pivoted[var].dropna())\n",
    "        outlier_counts[var] = len(outliers)\n",
    "        outlier_percentages[var] = (len(outliers) / len(data_pivoted[var].dropna())) * 100\n",
    "\n",
    "# Create a DataFrame to summarize the outlier analysis\n",
    "outlier_summary = pd.DataFrame({\n",
    "    \"Variable\": outlier_counts.keys(),\n",
    "    \"Number of Outliers\": outlier_counts.values(),\n",
    "    \"Percentage of Outliers\": outlier_percentages.values()\n",
    "})\n",
    "\n",
    "outlier_summary.sort_values(by='Percentage of Outliers', ascending=False)\n"
   ]
  },
  {
   "cell_type": "code",
   "execution_count": null,
   "metadata": {},
   "outputs": [],
   "source": [
    "# Calculate the type of value, range, and number of missing values for each variable\n",
    "attribute_info = {\n",
    "    'Variable': [],\n",
    "    'Type of Value': [],\n",
    "    'Range of Values': [],\n",
    "    'Number of Missing Values': []\n",
    "}\n",
    "\n",
    "for var in variables:\n",
    "    # Appending variable name\n",
    "    attribute_info['Variable'].append(var)\n",
    "    \n",
    "    # Determining type of value and appending\n",
    "    if data_pivoted[var].dtype == 'float64':\n",
    "        attribute_info['Type of Value'].append('Numeric')\n",
    "    elif data_pivoted[var].dtype == 'int64':\n",
    "        attribute_info['Type of Value'].append('Integer')\n",
    "    else:\n",
    "        attribute_info['Type of Value'].append('Categorical')\n",
    "    \n",
    "    # Calculating and appending range of values for numeric variables\n",
    "    if data_pivoted[var].dtype == 'float64' or data_pivoted[var].dtype == 'int64':\n",
    "        min_val = data_pivoted[var].min()\n",
    "        max_val = data_pivoted[var].max()\n",
    "        attribute_info['Range of Values'].append(f\"{min_val} to {max_val}\")\n",
    "    else:\n",
    "        attribute_info['Range of Values'].append(\"N/A\")\n",
    "    \n",
    "    # Counting and appending number of missing values\n",
    "    missing_count = data_pivoted[var].isna().sum()\n",
    "    attribute_info['Number of Missing Values'].append(missing_count)\n",
    "\n",
    "# Convert to DataFrame for easier LaTeX conversion\n",
    "attribute_info_df = pd.DataFrame(attribute_info)\n",
    "attribute_info_df\n"
   ]
  },
  {
   "cell_type": "code",
   "execution_count": null,
   "metadata": {},
   "outputs": [],
   "source": [
    "# Convert 'time' to datetime if not already done\n",
    "if data_pivoted['time'].dtype == object:\n",
    "    data_pivoted['time'] = pd.to_datetime(data_pivoted['time'])\n",
    "\n",
    "# Extract date from datetime\n",
    "data_pivoted['date'] = data_pivoted['time'].dt.date\n",
    "\n",
    "# Calculate number of unique users and dates\n",
    "num_unique_users = data_pivoted['id'].nunique()\n",
    "num_unique_dates = data_pivoted['date'].nunique()\n",
    "\n",
    "num_unique_users, num_unique_dates\n"
   ]
  },
  {
   "cell_type": "code",
   "execution_count": null,
   "metadata": {},
   "outputs": [],
   "source": [
    "# Ensure 'time' column is of datetime type\n",
    "if data_pivoted['time'].dtype != 'datetime64[ns]':\n",
    "    data_pivoted['time'] = pd.to_datetime(data_pivoted['time'])\n",
    "\n",
    "# Extract date from datetime if not already done\n",
    "data_pivoted['date'] = data_pivoted['time'].dt.date\n",
    "\n",
    "# Grouping data by 'id' and 'date'\n",
    "grouped_data = data_pivoted.groupby(['id', 'date']).agg({\n",
    "    'mood': 'mean',  # average mood per day per user\n",
    "    'screen': 'sum',  # total screen time per day per user\n",
    "    'activity': 'mean',  # average activity per day per user\n",
    "    'circumplex.arousal': 'mean',  # average arousal per day per user\n",
    "    'circumplex.valence': 'mean',  # average valence per day per user\n",
    "    'call': 'sum',  # total number of calls per day per user\n",
    "    'sms': 'sum',  # total number of SMS sent per day per user\n",
    "    'appCat.builtin': 'sum',  # total usage of built-in apps per day per user\n",
    "    'appCat.communication': 'sum',  # total usage of communication apps per day per user\n",
    "    'appCat.entertainment': 'sum',  # total usage of entertainment apps per day per user\n",
    "    'appCat.finance': 'sum',  # total usage of finance apps per day per user\n",
    "    'appCat.game': 'sum',  # total usage of game apps per day per user\n",
    "    'appCat.office': 'sum',  # total usage of office apps per day per user\n",
    "    'appCat.other': 'sum',  # total usage of other apps per day per user\n",
    "    'appCat.social': 'sum',  # total usage of social apps per day per user\n",
    "    'appCat.travel': 'sum',  # total usage of travel apps per day per user\n",
    "    'appCat.unknown': 'sum',  # total usage of unknown apps per day per user\n",
    "    'appCat.utilities': 'sum',  # total usage of utilities apps per day per user\n",
    "    'appCat.weather': 'sum'  # total usage of weather apps per day per user\n",
    "    # Add other variables as needed\n",
    "})\n",
    "\n",
    "# Resetting index if you want 'id' and 'date' back as columns for further use\n",
    "grouped_data.reset_index(inplace=True)\n"
   ]
  },
  {
   "cell_type": "code",
   "execution_count": null,
   "metadata": {},
   "outputs": [],
   "source": [
    "grouped_data.shape"
   ]
  },
  {
   "cell_type": "code",
   "execution_count": null,
   "metadata": {},
   "outputs": [],
   "source": [
    "# List of all relevant variables including app categories\n",
    "variables = ['mood', 'circumplex.arousal', 'circumplex.valence', 'activity', 'screen', 'call', 'sms',\n",
    "             'appCat.builtin', 'appCat.communication', 'appCat.entertainment', 'appCat.finance', \n",
    "             'appCat.game', 'appCat.office', 'appCat.other', 'appCat.social', 'appCat.travel', \n",
    "             'appCat.unknown', 'appCat.utilities', 'appCat.weather']\n",
    "# Calculate the type of value, range, and number of missing values for each variable\n",
    "attribute_info = {\n",
    "    'Variable': [],\n",
    "    'Type of Value': [],\n",
    "    'Range of Values': [],\n",
    "    'Number of Missing Values': []\n",
    "}\n",
    "\n",
    "for var in variables:\n",
    "    # Appending variable name\n",
    "    attribute_info['Variable'].append(var)\n",
    "    \n",
    "    # Determining type of value and appending\n",
    "    if grouped_data[var].dtype == 'float64':\n",
    "        attribute_info['Type of Value'].append('Numeric')\n",
    "    elif grouped_data[var].dtype == 'int64':\n",
    "        attribute_info['Type of Value'].append('Integer')\n",
    "    else:\n",
    "        attribute_info['Type of Value'].append('Categorical')\n",
    "    \n",
    "    # Calculating and appending range of values for numeric variables\n",
    "    if grouped_data[var].dtype == 'float64' or grouped_data[var].dtype == 'int64':\n",
    "        min_val = grouped_data[var].min()\n",
    "        max_val = grouped_data[var].max()\n",
    "        attribute_info['Range of Values'].append(f\"{min_val} to {max_val}\")\n",
    "    else:\n",
    "        attribute_info['Range of Values'].append(\"N/A\")\n",
    "    \n",
    "    # Counting and appending number of missing values\n",
    "    missing_count = grouped_data[var].isna().sum()\n",
    "    attribute_info['Number of Missing Values'].append(missing_count)\n",
    "\n",
    "# Convert to DataFrame for easier LaTeX conversion\n",
    "attribute_info_df = pd.DataFrame(attribute_info)\n",
    "attribute_info_df"
   ]
  },
  {
   "cell_type": "code",
   "execution_count": null,
   "metadata": {},
   "outputs": [],
   "source": [
    "grouped_data.head()"
   ]
  },
  {
   "cell_type": "code",
   "execution_count": null,
   "metadata": {},
   "outputs": [],
   "source": [
    "# Count NaNs for all variables where NaNs are straightforward missing data\n",
    "nan_missing_counts = grouped_data.isna().sum()\n",
    "\n",
    "# For sum-based variables, count zeros as missing data\n",
    "sum_based_variables = [\n",
    "    'appCat.builtin', 'appCat.communication', 'appCat.entertainment', 'appCat.finance',\n",
    "    'appCat.game', 'appCat.office', 'appCat.other', 'appCat.social', 'appCat.travel',\n",
    "    'appCat.unknown', 'appCat.utilities', 'appCat.weather', 'screen', 'sms', 'call'\n",
    "]\n",
    "zero_missing_counts = (grouped_data[sum_based_variables] == 0).sum()\n",
    "\n",
    "# Combine NaN missing counts with zero missing counts for relevant variables\n",
    "total_missing_counts = nan_missing_counts.copy()\n",
    "total_missing_counts.update(zero_missing_counts)\n",
    "\n",
    "total_missing_counts\n"
   ]
  },
  {
   "cell_type": "code",
   "execution_count": null,
   "metadata": {},
   "outputs": [],
   "source": [
    " # Calculate the range (min and max values) for each variable\n",
    "range_values = grouped_data.describe().loc[['min', 'max']].T\n",
    "range_values"
   ]
  },
  {
   "cell_type": "code",
   "execution_count": null,
   "metadata": {},
   "outputs": [],
   "source": [
    "\n",
    "# Filter to exclude non-numeric columns and columns not relevant for box plot\n",
    "numeric_columns = grouped_data.select_dtypes(include=['float64', 'int64']).columns\n",
    "\n",
    "# Set up the plot\n",
    "plt.figure(figsize=(18, 12))\n",
    "\n",
    "# Plot a box plot for each variable\n",
    "for i, column in enumerate(numeric_columns, start=1):\n",
    "    plt.subplot(5, 4, i)  # Adjust grid size based on the number of numeric variables\n",
    "    grouped_data.boxplot(column=column, grid=False)\n",
    "    plt.title(column)\n",
    "\n",
    "plt.tight_layout()\n",
    "plt.savefig(\"Box_plot_grouped.eps\", format='eps')\n"
   ]
  },
  {
   "cell_type": "code",
   "execution_count": 111,
   "metadata": {},
   "outputs": [
    {
     "data": {
      "text/html": [
       "<div>\n",
       "<style scoped>\n",
       "    .dataframe tbody tr th:only-of-type {\n",
       "        vertical-align: middle;\n",
       "    }\n",
       "\n",
       "    .dataframe tbody tr th {\n",
       "        vertical-align: top;\n",
       "    }\n",
       "\n",
       "    .dataframe thead th {\n",
       "        text-align: right;\n",
       "    }\n",
       "</style>\n",
       "<table border=\"1\" class=\"dataframe\">\n",
       "  <thead>\n",
       "    <tr style=\"text-align: right;\">\n",
       "      <th>variable</th>\n",
       "      <th>id</th>\n",
       "      <th>date</th>\n",
       "      <th>mood</th>\n",
       "      <th>screen</th>\n",
       "      <th>activity</th>\n",
       "      <th>circumplex.arousal</th>\n",
       "      <th>circumplex.valence</th>\n",
       "      <th>call</th>\n",
       "      <th>sms</th>\n",
       "      <th>appCat.builtin</th>\n",
       "      <th>...</th>\n",
       "      <th>appCat.entertainment</th>\n",
       "      <th>appCat.finance</th>\n",
       "      <th>appCat.game</th>\n",
       "      <th>appCat.office</th>\n",
       "      <th>appCat.other</th>\n",
       "      <th>appCat.social</th>\n",
       "      <th>appCat.travel</th>\n",
       "      <th>appCat.unknown</th>\n",
       "      <th>appCat.utilities</th>\n",
       "      <th>appCat.weather</th>\n",
       "    </tr>\n",
       "    <tr>\n",
       "      <th>id</th>\n",
       "      <th></th>\n",
       "      <th></th>\n",
       "      <th></th>\n",
       "      <th></th>\n",
       "      <th></th>\n",
       "      <th></th>\n",
       "      <th></th>\n",
       "      <th></th>\n",
       "      <th></th>\n",
       "      <th></th>\n",
       "      <th></th>\n",
       "      <th></th>\n",
       "      <th></th>\n",
       "      <th></th>\n",
       "      <th></th>\n",
       "      <th></th>\n",
       "      <th></th>\n",
       "      <th></th>\n",
       "      <th></th>\n",
       "      <th></th>\n",
       "      <th></th>\n",
       "    </tr>\n",
       "  </thead>\n",
       "  <tbody>\n",
       "    <tr>\n",
       "      <th>AS14.01</th>\n",
       "      <td>0</td>\n",
       "      <td>0</td>\n",
       "      <td>25</td>\n",
       "      <td>25</td>\n",
       "      <td>25</td>\n",
       "      <td>25</td>\n",
       "      <td>25</td>\n",
       "      <td>21</td>\n",
       "      <td>47</td>\n",
       "      <td>25</td>\n",
       "      <td>...</td>\n",
       "      <td>25</td>\n",
       "      <td>40</td>\n",
       "      <td>65</td>\n",
       "      <td>64</td>\n",
       "      <td>26</td>\n",
       "      <td>25</td>\n",
       "      <td>47</td>\n",
       "      <td>66</td>\n",
       "      <td>27</td>\n",
       "      <td>71</td>\n",
       "    </tr>\n",
       "    <tr>\n",
       "      <th>AS14.02</th>\n",
       "      <td>0</td>\n",
       "      <td>0</td>\n",
       "      <td>27</td>\n",
       "      <td>31</td>\n",
       "      <td>32</td>\n",
       "      <td>27</td>\n",
       "      <td>27</td>\n",
       "      <td>2</td>\n",
       "      <td>26</td>\n",
       "      <td>32</td>\n",
       "      <td>...</td>\n",
       "      <td>36</td>\n",
       "      <td>68</td>\n",
       "      <td>68</td>\n",
       "      <td>68</td>\n",
       "      <td>37</td>\n",
       "      <td>35</td>\n",
       "      <td>55</td>\n",
       "      <td>68</td>\n",
       "      <td>64</td>\n",
       "      <td>68</td>\n",
       "    </tr>\n",
       "    <tr>\n",
       "      <th>AS14.03</th>\n",
       "      <td>0</td>\n",
       "      <td>0</td>\n",
       "      <td>30</td>\n",
       "      <td>29</td>\n",
       "      <td>30</td>\n",
       "      <td>30</td>\n",
       "      <td>30</td>\n",
       "      <td>19</td>\n",
       "      <td>41</td>\n",
       "      <td>29</td>\n",
       "      <td>...</td>\n",
       "      <td>29</td>\n",
       "      <td>52</td>\n",
       "      <td>77</td>\n",
       "      <td>49</td>\n",
       "      <td>30</td>\n",
       "      <td>73</td>\n",
       "      <td>64</td>\n",
       "      <td>44</td>\n",
       "      <td>56</td>\n",
       "      <td>75</td>\n",
       "    </tr>\n",
       "    <tr>\n",
       "      <th>AS14.05</th>\n",
       "      <td>0</td>\n",
       "      <td>0</td>\n",
       "      <td>17</td>\n",
       "      <td>17</td>\n",
       "      <td>20</td>\n",
       "      <td>17</td>\n",
       "      <td>17</td>\n",
       "      <td>26</td>\n",
       "      <td>53</td>\n",
       "      <td>19</td>\n",
       "      <td>...</td>\n",
       "      <td>17</td>\n",
       "      <td>70</td>\n",
       "      <td>70</td>\n",
       "      <td>69</td>\n",
       "      <td>17</td>\n",
       "      <td>36</td>\n",
       "      <td>69</td>\n",
       "      <td>32</td>\n",
       "      <td>28</td>\n",
       "      <td>70</td>\n",
       "    </tr>\n",
       "    <tr>\n",
       "      <th>AS14.06</th>\n",
       "      <td>0</td>\n",
       "      <td>0</td>\n",
       "      <td>29</td>\n",
       "      <td>29</td>\n",
       "      <td>29</td>\n",
       "      <td>29</td>\n",
       "      <td>29</td>\n",
       "      <td>24</td>\n",
       "      <td>49</td>\n",
       "      <td>30</td>\n",
       "      <td>...</td>\n",
       "      <td>28</td>\n",
       "      <td>74</td>\n",
       "      <td>66</td>\n",
       "      <td>49</td>\n",
       "      <td>30</td>\n",
       "      <td>28</td>\n",
       "      <td>42</td>\n",
       "      <td>73</td>\n",
       "      <td>74</td>\n",
       "      <td>65</td>\n",
       "    </tr>\n",
       "  </tbody>\n",
       "</table>\n",
       "<p>5 rows × 21 columns</p>\n",
       "</div>"
      ],
      "text/plain": [
       "variable  id  date  mood  screen  activity  circumplex.arousal  \\\n",
       "id                                                               \n",
       "AS14.01    0     0    25      25        25                  25   \n",
       "AS14.02    0     0    27      31        32                  27   \n",
       "AS14.03    0     0    30      29        30                  30   \n",
       "AS14.05    0     0    17      17        20                  17   \n",
       "AS14.06    0     0    29      29        29                  29   \n",
       "\n",
       "variable  circumplex.valence  call  sms  appCat.builtin  ...  \\\n",
       "id                                                       ...   \n",
       "AS14.01                   25    21   47              25  ...   \n",
       "AS14.02                   27     2   26              32  ...   \n",
       "AS14.03                   30    19   41              29  ...   \n",
       "AS14.05                   17    26   53              19  ...   \n",
       "AS14.06                   29    24   49              30  ...   \n",
       "\n",
       "variable  appCat.entertainment  appCat.finance  appCat.game  appCat.office  \\\n",
       "id                                                                           \n",
       "AS14.01                     25              40           65             64   \n",
       "AS14.02                     36              68           68             68   \n",
       "AS14.03                     29              52           77             49   \n",
       "AS14.05                     17              70           70             69   \n",
       "AS14.06                     28              74           66             49   \n",
       "\n",
       "variable  appCat.other  appCat.social  appCat.travel  appCat.unknown  \\\n",
       "id                                                                     \n",
       "AS14.01             26             25             47              66   \n",
       "AS14.02             37             35             55              68   \n",
       "AS14.03             30             73             64              44   \n",
       "AS14.05             17             36             69              32   \n",
       "AS14.06             30             28             42              73   \n",
       "\n",
       "variable  appCat.utilities  appCat.weather  \n",
       "id                                          \n",
       "AS14.01                 27              71  \n",
       "AS14.02                 64              68  \n",
       "AS14.03                 56              75  \n",
       "AS14.05                 28              70  \n",
       "AS14.06                 74              65  \n",
       "\n",
       "[5 rows x 21 columns]"
      ]
     },
     "execution_count": 111,
     "metadata": {},
     "output_type": "execute_result"
    }
   ],
   "source": [
    "# Columns where zeros should be considered as missing data\n",
    "columns_to_consider = ['activity', 'appCat.builtin', 'appCat.communication', 'appCat.entertainment', \n",
    "                       'appCat.finance', 'appCat.game', 'appCat.office', 'appCat.other', 'appCat.social', \n",
    "                       'appCat.travel', 'appCat.unknown', 'appCat.utilities', 'appCat.weather', 'screen', 'call', 'sms']\n",
    "\n",
    "# Replace zeros with NaN in the specified columns\n",
    "aggregated_data_with_zeros_as_nan = grouped_data.copy()\n",
    "aggregated_data_with_zeros_as_nan[columns_to_consider] = aggregated_data_with_zeros_as_nan[columns_to_consider].replace(0, np.nan)\n",
    "\n",
    "# Calculate the new counts of missing values including zeros as NaNs for each variable for each ID\n",
    "missing_including_zeros = aggregated_data_with_zeros_as_nan.groupby('id').apply(lambda x: x.isna().sum())\n",
    "missing_including_zeros.head()  # Display the updated missing data summary for the first few IDs\n",
    "\n"
   ]
  },
  {
   "cell_type": "markdown",
   "metadata": {},
   "source": [
    "### Missing values Handling with median"
   ]
  },
  {
   "cell_type": "code",
   "execution_count": 112,
   "metadata": {},
   "outputs": [
    {
     "data": {
      "text/plain": [
       "(1973, 21)"
      ]
     },
     "execution_count": 112,
     "metadata": {},
     "output_type": "execute_result"
    }
   ],
   "source": [
    "aggregated_data_with_zeros_as_nan.shape"
   ]
  },
  {
   "cell_type": "code",
   "execution_count": 113,
   "metadata": {},
   "outputs": [],
   "source": [
    "# Select only the numeric columns for imputation (excluding the 'id' column)\n",
    "numeric_columns = aggregated_data_with_zeros_as_nan.select_dtypes(include=np.number).columns\n",
    "\n",
    "# Loop over each ID\n",
    "for id_val in aggregated_data_with_zeros_as_nan['id'].unique():\n",
    "    # Calculate median for all numeric attributes for the current ID\n",
    "    median_values_by_id = aggregated_data_with_zeros_as_nan.loc[aggregated_data_with_zeros_as_nan['id'] == id_val, numeric_columns].median()\n",
    "    \n",
    "    # Impute missing values, including zeros, with the calculated median for each attribute and each ID\n",
    "    for col in numeric_columns:\n",
    "        aggregated_data_with_zeros_as_nan.loc[(aggregated_data_with_zeros_as_nan['id'] == id_val) & (aggregated_data_with_zeros_as_nan[col].isna() | (aggregated_data_with_zeros_as_nan[col] == 0)), col] = median_values_by_id[col]\n"
   ]
  },
  {
   "cell_type": "code",
   "execution_count": 114,
   "metadata": {},
   "outputs": [
    {
     "data": {
      "text/plain": [
       "(1973, 21)"
      ]
     },
     "execution_count": 114,
     "metadata": {},
     "output_type": "execute_result"
    }
   ],
   "source": [
    "aggregated_data_with_zeros_as_nan.shape"
   ]
  },
  {
   "cell_type": "code",
   "execution_count": 115,
   "metadata": {},
   "outputs": [],
   "source": [
    "data_handled_mis = aggregated_data_with_zeros_as_nan.copy()"
   ]
  },
  {
   "cell_type": "code",
   "execution_count": 116,
   "metadata": {},
   "outputs": [
    {
     "data": {
      "text/plain": [
       "(1973, 21)"
      ]
     },
     "execution_count": 116,
     "metadata": {},
     "output_type": "execute_result"
    }
   ],
   "source": [
    "data_handled_mis.shape"
   ]
  },
  {
   "cell_type": "code",
   "execution_count": 117,
   "metadata": {},
   "outputs": [],
   "source": [
    "def create_lag_features(df, columns):\n",
    "    \"\"\"\n",
    "    Create lag features for specified columns in a DataFrame.\n",
    "    \n",
    "    Parameters:\n",
    "        df (pd.DataFrame): Input DataFrame containing the data.\n",
    "        columns (list of str): List of column names to create lag features for.\n",
    "        lags (list of int): List of lag intervals to create features at.\n",
    "    \n",
    "    Returns:\n",
    "        pd.DataFrame: DataFrame with new lag features.\n",
    "    \"\"\"\n",
    "    df_copy = df.copy()\n",
    "    for column in columns:\n",
    "        df_copy[f'{column}_lag'] = df_copy.groupby('id')[column].shift(-1)\n",
    "    return df_copy\n"
   ]
  },
  {
   "cell_type": "code",
   "execution_count": 118,
   "metadata": {},
   "outputs": [],
   "source": [
    "lagged_df = create_lag_features(data_handled_mis, data_handled_mis.columns)"
   ]
  },
  {
   "cell_type": "code",
   "execution_count": 119,
   "metadata": {},
   "outputs": [
    {
     "data": {
      "text/plain": [
       "(1973, 42)"
      ]
     },
     "execution_count": 119,
     "metadata": {},
     "output_type": "execute_result"
    }
   ],
   "source": [
    "lagged_df.shape"
   ]
  },
  {
   "cell_type": "code",
   "execution_count": 121,
   "metadata": {},
   "outputs": [],
   "source": [
    "# Drop the last row of the data\n",
    "lagged_df.drop(lagged_df.index[-1], inplace=True)\n",
    "# Replace the name of the 'mood_lagged' column with 'target_column'\n",
    "lagged_df.rename(columns={'mood_lagged': 'target_column'}, inplace=True)"
   ]
  },
  {
   "cell_type": "code",
   "execution_count": 122,
   "metadata": {},
   "outputs": [
    {
     "data": {
      "text/html": [
       "<div>\n",
       "<style scoped>\n",
       "    .dataframe tbody tr th:only-of-type {\n",
       "        vertical-align: middle;\n",
       "    }\n",
       "\n",
       "    .dataframe tbody tr th {\n",
       "        vertical-align: top;\n",
       "    }\n",
       "\n",
       "    .dataframe thead th {\n",
       "        text-align: right;\n",
       "    }\n",
       "</style>\n",
       "<table border=\"1\" class=\"dataframe\">\n",
       "  <thead>\n",
       "    <tr style=\"text-align: right;\">\n",
       "      <th>variable</th>\n",
       "      <th>id</th>\n",
       "      <th>date</th>\n",
       "      <th>mood</th>\n",
       "      <th>screen</th>\n",
       "      <th>activity</th>\n",
       "      <th>circumplex.arousal</th>\n",
       "      <th>circumplex.valence</th>\n",
       "      <th>call</th>\n",
       "      <th>sms</th>\n",
       "      <th>appCat.builtin</th>\n",
       "      <th>...</th>\n",
       "      <th>appCat.entertainment_lag</th>\n",
       "      <th>appCat.finance_lag</th>\n",
       "      <th>appCat.game_lag</th>\n",
       "      <th>appCat.office_lag</th>\n",
       "      <th>appCat.other_lag</th>\n",
       "      <th>appCat.social_lag</th>\n",
       "      <th>appCat.travel_lag</th>\n",
       "      <th>appCat.unknown_lag</th>\n",
       "      <th>appCat.utilities_lag</th>\n",
       "      <th>appCat.weather_lag</th>\n",
       "    </tr>\n",
       "  </thead>\n",
       "  <tbody>\n",
       "    <tr>\n",
       "      <th>1967</th>\n",
       "      <td>AS14.33</td>\n",
       "      <td>2014-05-26</td>\n",
       "      <td>5.4</td>\n",
       "      <td>18925.187999</td>\n",
       "      <td>0.115201</td>\n",
       "      <td>-0.400000</td>\n",
       "      <td>0.4</td>\n",
       "      <td>10.0</td>\n",
       "      <td>3.0</td>\n",
       "      <td>1048.739</td>\n",
       "      <td>...</td>\n",
       "      <td>124.6940</td>\n",
       "      <td>3.106</td>\n",
       "      <td>NaN</td>\n",
       "      <td>244.2195</td>\n",
       "      <td>142.686</td>\n",
       "      <td>2010.3640</td>\n",
       "      <td>52.436</td>\n",
       "      <td>4.011</td>\n",
       "      <td>56.1730</td>\n",
       "      <td>NaN</td>\n",
       "    </tr>\n",
       "    <tr>\n",
       "      <th>1968</th>\n",
       "      <td>AS14.33</td>\n",
       "      <td>2014-05-27</td>\n",
       "      <td>6.2</td>\n",
       "      <td>4089.879001</td>\n",
       "      <td>0.012704</td>\n",
       "      <td>-0.600000</td>\n",
       "      <td>0.4</td>\n",
       "      <td>1.0</td>\n",
       "      <td>2.0</td>\n",
       "      <td>726.391</td>\n",
       "      <td>...</td>\n",
       "      <td>614.7060</td>\n",
       "      <td>3.106</td>\n",
       "      <td>NaN</td>\n",
       "      <td>357.9090</td>\n",
       "      <td>529.946</td>\n",
       "      <td>5361.2110</td>\n",
       "      <td>52.436</td>\n",
       "      <td>4.011</td>\n",
       "      <td>30.6660</td>\n",
       "      <td>NaN</td>\n",
       "    </tr>\n",
       "    <tr>\n",
       "      <th>1969</th>\n",
       "      <td>AS14.33</td>\n",
       "      <td>2014-05-28</td>\n",
       "      <td>8.2</td>\n",
       "      <td>14320.867998</td>\n",
       "      <td>0.103301</td>\n",
       "      <td>-0.400000</td>\n",
       "      <td>1.2</td>\n",
       "      <td>10.0</td>\n",
       "      <td>1.0</td>\n",
       "      <td>2551.046</td>\n",
       "      <td>...</td>\n",
       "      <td>136.7380</td>\n",
       "      <td>3.106</td>\n",
       "      <td>NaN</td>\n",
       "      <td>244.2195</td>\n",
       "      <td>29.202</td>\n",
       "      <td>1789.9220</td>\n",
       "      <td>0.939</td>\n",
       "      <td>4.011</td>\n",
       "      <td>3.1990</td>\n",
       "      <td>NaN</td>\n",
       "    </tr>\n",
       "    <tr>\n",
       "      <th>1970</th>\n",
       "      <td>AS14.33</td>\n",
       "      <td>2014-05-29</td>\n",
       "      <td>7.0</td>\n",
       "      <td>3569.341000</td>\n",
       "      <td>0.169354</td>\n",
       "      <td>-1.333333</td>\n",
       "      <td>1.0</td>\n",
       "      <td>5.0</td>\n",
       "      <td>1.0</td>\n",
       "      <td>400.034</td>\n",
       "      <td>...</td>\n",
       "      <td>260.2200</td>\n",
       "      <td>3.106</td>\n",
       "      <td>NaN</td>\n",
       "      <td>244.2195</td>\n",
       "      <td>52.610</td>\n",
       "      <td>3166.4090</td>\n",
       "      <td>1052.648</td>\n",
       "      <td>8.072</td>\n",
       "      <td>232.8250</td>\n",
       "      <td>NaN</td>\n",
       "    </tr>\n",
       "    <tr>\n",
       "      <th>1971</th>\n",
       "      <td>AS14.33</td>\n",
       "      <td>2014-05-30</td>\n",
       "      <td>6.8</td>\n",
       "      <td>9497.646999</td>\n",
       "      <td>0.192901</td>\n",
       "      <td>-0.800000</td>\n",
       "      <td>-0.4</td>\n",
       "      <td>4.0</td>\n",
       "      <td>1.0</td>\n",
       "      <td>3044.030</td>\n",
       "      <td>...</td>\n",
       "      <td>702.1665</td>\n",
       "      <td>3.106</td>\n",
       "      <td>NaN</td>\n",
       "      <td>244.2195</td>\n",
       "      <td>62.001</td>\n",
       "      <td>4520.2725</td>\n",
       "      <td>52.436</td>\n",
       "      <td>4.011</td>\n",
       "      <td>68.2255</td>\n",
       "      <td>NaN</td>\n",
       "    </tr>\n",
       "  </tbody>\n",
       "</table>\n",
       "<p>5 rows × 42 columns</p>\n",
       "</div>"
      ],
      "text/plain": [
       "variable       id        date  mood        screen  activity  \\\n",
       "1967      AS14.33  2014-05-26   5.4  18925.187999  0.115201   \n",
       "1968      AS14.33  2014-05-27   6.2   4089.879001  0.012704   \n",
       "1969      AS14.33  2014-05-28   8.2  14320.867998  0.103301   \n",
       "1970      AS14.33  2014-05-29   7.0   3569.341000  0.169354   \n",
       "1971      AS14.33  2014-05-30   6.8   9497.646999  0.192901   \n",
       "\n",
       "variable  circumplex.arousal  circumplex.valence  call  sms  appCat.builtin  \\\n",
       "1967               -0.400000                 0.4  10.0  3.0        1048.739   \n",
       "1968               -0.600000                 0.4   1.0  2.0         726.391   \n",
       "1969               -0.400000                 1.2  10.0  1.0        2551.046   \n",
       "1970               -1.333333                 1.0   5.0  1.0         400.034   \n",
       "1971               -0.800000                -0.4   4.0  1.0        3044.030   \n",
       "\n",
       "variable  ...  appCat.entertainment_lag  appCat.finance_lag  appCat.game_lag  \\\n",
       "1967      ...                  124.6940               3.106              NaN   \n",
       "1968      ...                  614.7060               3.106              NaN   \n",
       "1969      ...                  136.7380               3.106              NaN   \n",
       "1970      ...                  260.2200               3.106              NaN   \n",
       "1971      ...                  702.1665               3.106              NaN   \n",
       "\n",
       "variable  appCat.office_lag  appCat.other_lag  appCat.social_lag  \\\n",
       "1967               244.2195           142.686          2010.3640   \n",
       "1968               357.9090           529.946          5361.2110   \n",
       "1969               244.2195            29.202          1789.9220   \n",
       "1970               244.2195            52.610          3166.4090   \n",
       "1971               244.2195            62.001          4520.2725   \n",
       "\n",
       "variable  appCat.travel_lag  appCat.unknown_lag  appCat.utilities_lag  \\\n",
       "1967                 52.436               4.011               56.1730   \n",
       "1968                 52.436               4.011               30.6660   \n",
       "1969                  0.939               4.011                3.1990   \n",
       "1970               1052.648               8.072              232.8250   \n",
       "1971                 52.436               4.011               68.2255   \n",
       "\n",
       "variable  appCat.weather_lag  \n",
       "1967                     NaN  \n",
       "1968                     NaN  \n",
       "1969                     NaN  \n",
       "1970                     NaN  \n",
       "1971                     NaN  \n",
       "\n",
       "[5 rows x 42 columns]"
      ]
     },
     "execution_count": 122,
     "metadata": {},
     "output_type": "execute_result"
    }
   ],
   "source": [
    "lagged_df.tail()"
   ]
  },
  {
   "cell_type": "markdown",
   "metadata": {},
   "source": [
    "### Correlation between features"
   ]
  },
  {
   "cell_type": "code",
   "execution_count": 123,
   "metadata": {},
   "outputs": [
    {
     "data": {
      "text/plain": [
       "Text(0.5, 1.0, 'Correlation Matrix of Attributes')"
      ]
     },
     "execution_count": 123,
     "metadata": {},
     "output_type": "execute_result"
    },
    {
     "data": {
      "image/png": "[encoded data removed]",
      "text/plain": [
       "<Figure size 1600x1000 with 2 Axes>"
      ]
     },
     "metadata": {},
     "output_type": "display_data"
    }
   ],
   "source": [
    "# Select only the numeric columns for correlation analysis (excluding the 'id' column)\n",
    "numeric_columns = lagged_df.select_dtypes(include=np.number).columns\n",
    "\n",
    "# Calculate the correlation matrix\n",
    "correlation_matrix = lagged_df[numeric_columns].corr()\n",
    "\n",
    "# Set up the matplotlib figure\n",
    "plt.figure(figsize=(16, 10))\n",
    "\n",
    "# Generate a heatmap\n",
    "sns.heatmap(correlation_matrix, annot=True, fmt=\".2f\", cmap='coolwarm', cbar_kws={'label': 'Correlation Coefficient'})\n",
    "plt.title('Correlation Matrix of Attributes')\n"
   ]
  },
  {
   "cell_type": "code",
   "execution_count": 125,
   "metadata": {},
   "outputs": [
    {
     "name": "stdout",
     "output_type": "stream",
     "text": [
      "variable\n",
      "mood_lag                    1.000000\n",
      "circumplex.valence_lag      0.602362\n",
      "mood                        0.532819\n",
      "circumplex.valence          0.272330\n",
      "appCat.game_lag             0.169391\n",
      "appCat.game                 0.164815\n",
      "activity_lag                0.143403\n",
      "appCat.entertainment        0.134577\n",
      "circumplex.arousal_lag      0.125653\n",
      "appCat.entertainment_lag    0.116168\n",
      "activity                    0.099735\n",
      "appCat.other_lag            0.088396\n",
      "appCat.communication        0.084576\n",
      "appCat.communication_lag    0.075635\n",
      "circumplex.arousal          0.066903\n",
      "appCat.other                0.047843\n",
      "appCat.office               0.046273\n",
      "appCat.finance_lag          0.038079\n",
      "appCat.finance              0.029548\n",
      "appCat.utilities_lag        0.028556\n",
      "appCat.builtin              0.028403\n",
      "appCat.office_lag           0.025442\n",
      "screen_lag                  0.025340\n",
      "screen                      0.019906\n",
      "sms                         0.014344\n",
      "appCat.utilities            0.013759\n",
      "sms_lag                     0.007842\n",
      "appCat.unknown_lag         -0.000767\n",
      "call_lag                   -0.005283\n",
      "appCat.unknown             -0.006756\n",
      "appCat.travel              -0.009393\n",
      "appCat.builtin_lag         -0.012186\n",
      "appCat.travel_lag          -0.023974\n",
      "appCat.weather             -0.024993\n",
      "call                       -0.042706\n",
      "appCat.weather_lag         -0.061262\n",
      "appCat.social              -0.120278\n",
      "appCat.social_lag          -0.120763\n",
      "dtype: float64\n"
     ]
    }
   ],
   "source": [
    "# Select only the numeric columns (excluding the 'id' column)\n",
    "numeric_columns = lagged_df.select_dtypes(include=np.number).columns\n",
    "\n",
    "# Calculate the Pearson correlation coefficients between the target column and other numeric attribute columns\n",
    "pearson_correlation = lagged_df[numeric_columns].corrwith(lagged_df['mood_lag'], method='pearson').sort_values(ascending=False)\n",
    "\n",
    "# Display the Pearson correlation coefficients\n",
    "print(pearson_correlation)\n",
    "\n"
   ]
  },
  {
   "cell_type": "code",
   "execution_count": null,
   "metadata": {},
   "outputs": [],
   "source": [
    "from sklearn.model_selection import TimeSeriesSplit\n",
    "from sklearn.ensemble import RandomForestRegressor\n",
    "from sklearn.metrics import mean_squared_error\n",
    "\n",
    "# Step 1: Split the dataset into features (X) and the target variable (y)\n",
    "X = combined_data.drop(columns=['target_column', 'id'])  # Features\n",
    "y = combined_data['target_column']  # Target variable\n",
    "\n",
    "# Step 2: Split the data into training and testing sets based on time\n",
    "tscv = TimeSeriesSplit(n_splits=5)\n",
    "for train_index, test_index in tscv.split(X):\n",
    "    X_train, X_test = X.iloc[train_index], X.iloc[test_index]\n",
    "    y_train, y_test = y.iloc[train_index], y.iloc[test_index]\n",
    "\n",
    "# Step 3: Train a Random Forest model on the training data\n",
    "rf_model = RandomForestRegressor(n_estimators=100, random_state=42)\n",
    "rf_model.fit(X_train, y_train)\n",
    "\n",
    "# Step 4: Evaluate the model's performance on the testing data\n",
    "y_pred = rf_model.predict(X_test)\n",
    "mse = mean_squared_error(y_test, y_pred)\n",
    "print(\"Mean Squared Error:\", mse)\n"
   ]
  },
  {
   "cell_type": "code",
   "execution_count": null,
   "metadata": {},
   "outputs": [],
   "source": []
  },
  {
   "cell_type": "code",
   "execution_count": null,
   "metadata": {},
   "outputs": [],
   "source": []
  },
  {
   "cell_type": "code",
   "execution_count": null,
   "metadata": {},
   "outputs": [],
   "source": [
    "data_mood = data[data[\"variable\"] == \"mood\" ]                               # Select the rows where the variable is \"mood\"\n",
    "result_mood = data_mood.groupby(['id', 'date']).agg({'value': 'mean'}).reset_index()   # Group by id and date and calculate the mean of the value column"
   ]
  },
  {
   "cell_type": "code",
   "execution_count": null,
   "metadata": {},
   "outputs": [],
   "source": [
    "result_mood.describe()"
   ]
  },
  {
   "cell_type": "code",
   "execution_count": null,
   "metadata": {},
   "outputs": [],
   "source": [
    "len(data['date'].unique()), len(data['id'].unique())                       # Check the number of unique dates and ids"
   ]
  },
  {
   "cell_type": "code",
   "execution_count": null,
   "metadata": {},
   "outputs": [],
   "source": [
    "unique_dates = result_mood['date'].unique()  # Get the unique dates\n",
    "unique_ids = result_mood[\"id\"].unique()      # Get the unique ids\n",
    "print(len(unique_dates))                # Print the number of unique dates\n",
    "print(len(unique_ids))                  # Print the number of unique ids"
   ]
  },
  {
   "cell_type": "code",
   "execution_count": null,
   "metadata": {},
   "outputs": [],
   "source": [
    "sns.histplot(result_mood, x=\"value\")  # Create a histogram of the values"
   ]
  },
  {
   "cell_type": "code",
   "execution_count": null,
   "metadata": {},
   "outputs": [],
   "source": [
    "data[\"variable\"].unique()"
   ]
  },
  {
   "cell_type": "code",
   "execution_count": null,
   "metadata": {},
   "outputs": [],
   "source": [
    "for column in data[\"variable\"].unique():\n",
    "    data[column] = data[data[\"variable\"] == column][\"value\"]"
   ]
  },
  {
   "cell_type": "code",
   "execution_count": null,
   "metadata": {},
   "outputs": [],
   "source": [
    "data_arousal = data[data[\"variable\"] == \"circumplex.arousal\"]\n",
    "data_screen = data[data[\"variable\"] == \"screen\"]                # Select the rows where the variable is \"screen\"\n",
    "data_valence = data[data[\"variable\"] == \"circumplex.valence\"]   # Select the rows where the variable is \"circumplex.valence\"\n",
    "data_activity = data[data[\"variable\"] == \"activity\"]            # Select the rows where the variable is \"activity\"  \n",
    "data_call = data[data[\"variable\"] == \"call\"]\n",
    "data_sms = data[data[\"variable\"] == \"sms\"]\n",
    "data_built_in = data[data[\"variable\"] == \"appCat.builtin\"]  \n",
    "data_communication = data[data[\"variable\"] == \"appCat.communication\"]\n",
    "data_entertainment = data[data[\"variable\"] == \"appCat.entertainment\"]\n",
    "data_finance = data[data[\"variable\"] == \"appCat.finance\"]\n",
    "data_game = data[data[\"variable\"] == \"appCat.game\"]\n",
    "data_office = data[data[\"variable\"] == \"appCat.office\"]\n",
    "data_other = data[data[\"variable\"] == \"appCat.other\"]\n",
    "data_social = data[data[\"variable\"] == \"appCat.social\"]\n",
    "data_travel = data[data[\"variable\"] == \"appCat.travel\"]\n",
    "data_unknown = data[data[\"variable\"] == \"appCat.unknown\"]\n",
    "data_utility = data[data[\"variable\"] == \"appCat.utilities\"]\n",
    "data_weather = data[data[\"variable\"] == \"appCat.weather\"]"
   ]
  },
  {
   "cell_type": "code",
   "execution_count": null,
   "metadata": {},
   "outputs": [],
   "source": [
    "df2 = pd.DataFrame(columns= ['index', 'mean', 'max', 'min'], index=range(0, len(data['variable'].unique())))\n",
    "for i, column in tqdm(enumerate(data['variable'].unique())):\n",
    "    df = data[data[\"variable\"] == column]\n",
    "    values = [column, df['value'].mean(), df['value'].max(), df['value'].min()]\n",
    "    df2.loc[i] = values "
   ]
  },
  {
   "cell_type": "code",
   "execution_count": null,
   "metadata": {},
   "outputs": [],
   "source": [
    "df2"
   ]
  },
  {
   "cell_type": "code",
   "execution_count": null,
   "metadata": {},
   "outputs": [],
   "source": [
    "# Find negative values in the column and set them to positive\n",
    "negative_indices = data_built_in['value'] < 0\n",
    "data_built_in.loc[negative_indices, 'value'] = data_built_in.loc[negative_indices, 'value'].abs()\n",
    "negative_indices = data_entertainment['value'] < 0\n",
    "data_entertainment.loc[negative_indices, 'value'] = data_entertainment.loc[negative_indices, 'value'].abs()\n"
   ]
  },
  {
   "cell_type": "code",
   "execution_count": null,
   "metadata": {},
   "outputs": [],
   "source": [
    "data_built_in.max(), data_entertainment.min()"
   ]
  },
  {
   "cell_type": "code",
   "execution_count": null,
   "metadata": {},
   "outputs": [],
   "source": [
    "result_screen = data_screen.groupby(['id', 'date']).agg({'value': 'sum'}).reset_index().rename(columns={'value': 'screen_time'})\n",
    "result_arousal = data_arousal.groupby(['id', 'date']).agg({'value': 'mean'}).reset_index().rename(columns={'value': 'arousal_value'})\n",
    "result_valence = data_valence.groupby(['id', 'date']).agg({'value': 'mean'}).reset_index().rename(columns={'value': 'valence_value'})\n",
    "result_activity = data_activity.groupby(['id', 'date']).agg({\"value\": \"mean\"}).reset_index().rename(columns={'value': 'activity_time'})\n",
    "result_call = data_call.groupby(['id', 'date']).agg({\"value\":\"sum\"}).reset_index().rename(columns={'value': 'call_time'})\n",
    "result_sms = data_sms.groupby(['id', 'date']).agg({\"value\" : \"sum\"}).reset_index().rename(columns={'value': 'sms_time'})\n",
    "result_built_in = data_built_in.groupby(['id', 'date']).agg({\"value\" : \"sum\"}).reset_index().rename(columns={'value': 'built_in_time'})\n",
    "result_communication = data_communication.groupby(['id', 'date']).agg({\"value\" : \"sum\"}).reset_index().rename(columns={'value': 'communication_time'})\n",
    "result_entertainment = data_entertainment.groupby(['id', 'date']).agg({\"value\" : \"sum\"}).reset_index().rename(columns={'value': 'entertainment_time'})\n",
    "result_finance = data_finance.groupby(['id', 'date']).agg({\"value\" : \"sum\"}).reset_index().rename(columns={'value': 'finance_time'})\n",
    "result_game = data_game.groupby(['id', 'date']).agg({\"value\" : \"sum\"}).reset_index().rename(columns={'value': 'game_time'})\n",
    "result_office = data_office.groupby(['id', 'date']).agg({\"value\" : \"sum\"}).reset_index().rename(columns={'value': 'office_time'})\n",
    "result_other = data_other.groupby(['id', 'date']).agg({\"value\" : \"sum\"}).reset_index().rename(columns={'value': 'other_time'})\n",
    "result_social = data_social.groupby(['id', 'date']).agg({\"value\" : \"sum\"}).reset_index().rename(columns={'value': 'social_time'})\n",
    "result_travel = data_travel.groupby(['id', 'date']).agg({\"value\" : \"sum\"}).reset_index().rename(columns={'value': 'travel_time'})    \n",
    "result_unknown = data_unknown.groupby(['id', 'date']).agg({\"value\" : \"sum\"}).reset_index().rename(columns={'value': 'unknown_time'})\n",
    "result_utility = data_utility.groupby(['id', 'date']).agg({\"value\" : \"sum\"}).reset_index().rename(columns={'value': 'utility_time'})\n",
    "result_weather = data_weather.groupby(['id', 'date']).agg({\"value\" : \"sum\"}).reset_index().rename(columns={'value': 'weather_time'})"
   ]
  },
  {
   "cell_type": "code",
   "execution_count": null,
   "metadata": {},
   "outputs": [],
   "source": [
    "result_built_in.max()"
   ]
  },
  {
   "cell_type": "code",
   "execution_count": null,
   "metadata": {},
   "outputs": [],
   "source": [
    "fig, axes = plt.subplots(3, 2, figsize=(12, 12))\n",
    "axes = axes.flatten()\n",
    "\n",
    "# Plotting histograms for each activity\n",
    "sns.histplot(data=result_screen, x=\"screen_time\", label=\"Screen\", kde=True, ax=axes[0])\n",
    "axes[0].set_xlabel(\"Screen Time\")\n",
    "\n",
    "sns.histplot(data=result_arousal, x=\"arousal_value\", label=\"Arousal\", kde=True, ax=axes[1])\n",
    "axes[1].set_xlabel(\"Arousal Value\")\n",
    "\n",
    "sns.histplot(data=result_valence, x=\"valence_value\", label=\"Valence\", kde=True, ax=axes[2])\n",
    "axes[2].set_xlabel(\"Valence Value\")\n",
    "\n",
    "sns.histplot(data=result_activity, x=\"activity_time\", label=\"Activity\", kde=True, ax=axes[3])\n",
    "axes[3].set_xlabel(\"Activity Score\")\n",
    "\n",
    "sns.histplot(data=result_call, x=\"call_time\", label=\"Call\", kde=True, ax=axes[4])\n",
    "axes[4].set_xlabel(\"Number of Calls\")\n",
    "\n",
    "sns.histplot(data=result_sms, x=\"sms_time\", label=\"SMS\", kde=True, ax=axes[5])\n",
    "axes[5].set_xlabel(\"Number of SMS\")\n",
    "\n",
    "# Removing y-axis label to save space\n",
    "for ax in axes:\n",
    "    ax.set_ylabel(\"\")\n",
    "\n",
    "plt.tight_layout()\n",
    "plt.show()\n",
    "\n"
   ]
  },
  {
   "cell_type": "code",
   "execution_count": null,
   "metadata": {},
   "outputs": [],
   "source": [
    "fig, axes = plt.subplots(3, 2, figsize=(12, 12))\n",
    "axes = axes.flatten()\n",
    "\n",
    "# Plotting histograms for each activity\n",
    "sns.histplot(data=result_built_in, x=\"built_in_time\", label=\"Built-In App\", kde=True, ax=axes[0])\n",
    "axes[0].set_xlabel(\"Built-In App Time\")\n",
    "\n",
    "sns.histplot(data=result_communication, x=\"communication_time\", label=\"Communication\", kde=True, ax=axes[1])\n",
    "axes[1].set_xlabel(\"Communication Time\")\n",
    "\n",
    "sns.histplot(data=result_entertainment, x=\"entertainment_time\", label=\"Entertainment\", kde=True, ax=axes[2])\n",
    "axes[2].set_xlabel(\"Entertainment Time\")\n",
    "\n",
    "sns.histplot(data=result_finance, x=\"finance_time\", label=\"Finance\", kde=True, ax=axes[3])\n",
    "axes[3].set_xlabel(\"Finance Time\")\n",
    "\n",
    "sns.histplot(data=result_game, x=\"game_time\", label=\"Game\", kde=True, ax=axes[4])\n",
    "axes[4].set_xlabel(\"Game Time\")\n",
    "\n",
    "sns.histplot(data=result_office, x=\"office_time\", label=\"Office\", kde=True, ax=axes[5])\n",
    "axes[5].set_xlabel(\"Office Time\")\n",
    "\n",
    "# Removing y-axis label to save space\n",
    "for ax in axes:\n",
    "    ax.set_ylabel(\"\")\n",
    "\n",
    "plt.tight_layout()\n",
    "plt.show()\n"
   ]
  },
  {
   "cell_type": "code",
   "execution_count": null,
   "metadata": {},
   "outputs": [],
   "source": [
    "fig, axes = plt.subplots(3, 2, figsize=(12, 12))\n",
    "axes = axes.flatten()\n",
    "\n",
    "# Plotting histograms for each activity\n",
    "sns.histplot(data=result_other, x=\"other_time\", label=\"Other\", kde=True, ax=axes[0])\n",
    "axes[0].set_xlabel(\"Other Time\")\n",
    "\n",
    "sns.histplot(data=result_social, x=\"social_time\", label=\"Social\", kde=True, ax=axes[1])\n",
    "axes[1].set_xlabel(\"Social Time\")\n",
    "\n",
    "sns.histplot(data=result_unknown, x=\"unknown_time\", label=\"Unknown\", kde=True, ax=axes[2])\n",
    "axes[2].set_xlabel(\"Unknown Time\")\n",
    "\n",
    "sns.histplot(data=result_travel, x=\"travel_time\", label=\"Travel\", kde=True, ax=axes[3])\n",
    "axes[3].set_xlabel(\"Travel Time\")\n",
    "\n",
    "sns.histplot(data=result_utility, x=\"utility_time\", label=\"Utility\", kde=True, ax=axes[4])\n",
    "axes[4].set_xlabel(\"Utility Time\")\n",
    "\n",
    "sns.histplot(data=result_weather, x=\"weather_time\", label=\"Weather\", kde=True, ax=axes[5])\n",
    "axes[5].set_xlabel(\"Weather Time\")\n",
    "\n",
    "# Removing y-axis label to save space\n",
    "for ax in axes:\n",
    "    ax.set_ylabel(\"\")\n",
    "\n",
    "plt.tight_layout()\n",
    "plt.show()"
   ]
  },
  {
   "cell_type": "code",
   "execution_count": null,
   "metadata": {},
   "outputs": [],
   "source": [
    "result_combined = result_screen.join(result_arousal.set_index(['id', 'date']), on=['id', 'date'])\n",
    "result_combined = result_combined.join(result_valence.set_index(['id', 'date']), on=['id', 'date'])\n",
    "result_combined = result_combined.join(result_activity.set_index(['id', 'date']), on=['id', 'date'])\n",
    "result_combined = result_combined.join(result_call.set_index(['id', 'date']), on=['id', 'date'])\n",
    "result_combined = result_combined.join(result_sms.set_index(['id', 'date']), on=['id', 'date'])\n",
    "result_combined = result_combined.join(result_built_in.set_index(['id', 'date']), on=['id', 'date'])\n",
    "result_combined = result_combined.join(result_communication.set_index(['id', 'date']), on=['id', 'date'])\n",
    "result_combined = result_combined.join(result_entertainment.set_index(['id', 'date']), on=['id', 'date'])\n",
    "result_combined = result_combined.join(result_finance.set_index(['id', 'date']), on=['id', 'date'])\n",
    "result_combined = result_combined.join(result_game.set_index(['id', 'date']), on=['id', 'date'])\n",
    "result_combined = result_combined.join(result_office.set_index(['id', 'date']), on=['id', 'date'])\n",
    "result_combined = result_combined.join(result_other.set_index(['id', 'date']), on=['id', 'date'])\n",
    "result_combined = result_combined.join(result_social.set_index(['id', 'date']), on=['id', 'date'])\n",
    "result_combined = result_combined.join(result_travel.set_index(['id', 'date']), on=['id', 'date'])\n",
    "result_combined = result_combined.join(result_unknown.set_index(['id', 'date']), on=['id', 'date'])\n",
    "result_combined = result_combined.join(result_utility.set_index(['id', 'date']), on=['id', 'date'])\n",
    "result_combined = result_combined.join(result_weather.set_index(['id', 'date']), on=['id', 'date'])\n",
    "result_combined = result_combined.join(result_mood.set_index(['id', 'date']), on=['id', 'date'])"
   ]
  },
  {
   "cell_type": "code",
   "execution_count": null,
   "metadata": {},
   "outputs": [],
   "source": [
    "final_df = result_combined"
   ]
  },
  {
   "cell_type": "code",
   "execution_count": null,
   "metadata": {},
   "outputs": [],
   "source": [
    "# Plot a pie chart\n",
    "value_counts = data['variable'].value_counts()\n",
    "value_counts.plot(kind='pie', autopct='%1.1f%%', startangle=90)"
   ]
  },
  {
   "cell_type": "code",
   "execution_count": null,
   "metadata": {},
   "outputs": [],
   "source": [
    "final_df = final_df.dropna(subset=['value'])"
   ]
  },
  {
   "cell_type": "code",
   "execution_count": null,
   "metadata": {},
   "outputs": [],
   "source": [
    "null_counts = final_df.isnull().sum()\n",
    "null_counts.plot(kind='bar')"
   ]
  },
  {
   "cell_type": "code",
   "execution_count": null,
   "metadata": {},
   "outputs": [],
   "source": [
    "final_df = final_df.drop(columns=['id', 'date' ])"
   ]
  },
  {
   "cell_type": "code",
   "execution_count": null,
   "metadata": {},
   "outputs": [],
   "source": [
    "final_df.head()"
   ]
  },
  {
   "cell_type": "code",
   "execution_count": null,
   "metadata": {},
   "outputs": [],
   "source": [
    "# Calculate correlation matrix\n",
    "corr_matrix = final_df .corr()\n",
    "\n",
    "# Plot correlation heatmap\n",
    "plt.figure(figsize=(10, 8))\n",
    "sns.heatmap(corr_matrix)\n",
    "plt.title('Correlation Matrix')\n",
    "plt.show()"
   ]
  },
  {
   "cell_type": "code",
   "execution_count": null,
   "metadata": {},
   "outputs": [],
   "source": [
    "final_df = final_df.fillna(0)"
   ]
  },
  {
   "cell_type": "code",
   "execution_count": null,
   "metadata": {},
   "outputs": [],
   "source": [
    "from sklearn.model_selection import train_test_split\n",
    "from sklearn.tree import DecisionTreeRegressor\n",
    "from sklearn.metrics import mean_squared_error"
   ]
  },
  {
   "cell_type": "code",
   "execution_count": null,
   "metadata": {},
   "outputs": [],
   "source": [
    "X = final_df.drop(columns=['value'])\n",
    "y = final_df['value']\n",
    "\n",
    "# Split the data into training and testing sets\n",
    "X_train, X_test, y_train, y_test = train_test_split(X, y, test_size=0.2, random_state=42)\n",
    "\n",
    "\n",
    "# Step 2: Model Training\n",
    "regressor = DecisionTreeRegressor(random_state=42)\n",
    "regressor.fit(X_train, y_train)\n",
    "\n",
    "# Step 3: Model Evaluation\n",
    "y_pred = regressor.predict(X_test)\n",
    "mse = mean_squared_error(y_test, y_pred)\n",
    "print(\"Mean Squared Error:\", mse)"
   ]
  },
  {
   "cell_type": "code",
   "execution_count": null,
   "metadata": {},
   "outputs": [],
   "source": [
    "X = np.array(final_df['valence_value']).reshape(-1, 1)\n",
    "y = final_df['value']\n",
    "\n",
    "# Split the data into training and testing sets\n",
    "X_train, X_test, y_train, y_test = train_test_split(X, y, test_size=0.2, random_state=42)\n",
    "\n",
    "\n",
    "# Step 2: Model Training\n",
    "regressor = DecisionTreeRegressor(random_state=42)\n",
    "regressor.fit(X_train, y_train)\n",
    "\n",
    "# Step 3: Model Evaluation\n",
    "y_pred = regressor.predict(X_test)\n",
    "mse = mean_squared_error(y_test, y_pred)\n",
    "print(\"Mean Squared Error:\", mse)"
   ]
  },
  {
   "cell_type": "code",
   "execution_count": null,
   "metadata": {},
   "outputs": [],
   "source": [
    "X = np.array(final_df['arousal_value']).reshape(-1, 1)\n",
    "y = final_df['value']\n",
    "\n",
    "# Split the data into training and testing sets\n",
    "X_train, X_test, y_train, y_test = train_test_split(X, y, test_size=0.2, random_state=42)\n",
    "\n",
    "\n",
    "# Step 2: Model Training\n",
    "regressor = DecisionTreeRegressor(random_state=42)\n",
    "regressor.fit(X_train, y_train)\n",
    "\n",
    "# Step 3: Model Evaluation\n",
    "y_pred = regressor.predict(X_test)\n",
    "mse = mean_squared_error(y_test, y_pred)\n",
    "print(\"Mean Squared Error:\", mse)"
   ]
  },
  {
   "cell_type": "code",
   "execution_count": null,
   "metadata": {},
   "outputs": [],
   "source": [
    "X = final_df[['valence_value', 'arousal_value']]\n",
    "y = final_df['value']\n",
    "\n",
    "# Split the data into training and testing sets\n",
    "X_train, X_test, y_train, y_test = train_test_split(X, y, test_size=0.2, random_state=42)\n",
    "\n",
    "\n",
    "# Step 2: Model Training\n",
    "regressor = DecisionTreeRegressor(random_state=42)\n",
    "regressor.fit(X_train, y_train)\n",
    "\n",
    "# Step 3: Model Evaluation\n",
    "y_pred = regressor.predict(X_test)\n",
    "mse = mean_squared_error(y_test, y_pred)\n",
    "print(\"Mean Squared Error:\", mse)"
   ]
  },
  {
   "cell_type": "code",
   "execution_count": null,
   "metadata": {},
   "outputs": [],
   "source": [
    "X = final_df[['valence_value', 'arousal_value', 'screen_time']]\n",
    "y = final_df['value']\n",
    "\n",
    "# Split the data into training and testing sets\n",
    "X_train, X_test, y_train, y_test = train_test_split(X, y, test_size=0.2, random_state=42)\n",
    "\n",
    "\n",
    "# Step 2: Model Training\n",
    "regressor = DecisionTreeRegressor(random_state=42)\n",
    "regressor.fit(X_train, y_train)\n",
    "\n",
    "# Step 3: Model Evaluation\n",
    "y_pred = regressor.predict(X_test)\n",
    "mse = mean_squared_error(y_test, y_pred)\n",
    "print(\"Mean Squared Error:\", mse)"
   ]
  },
  {
   "cell_type": "code",
   "execution_count": null,
   "metadata": {},
   "outputs": [],
   "source": [
    "X = final_df[['valence_value', 'arousal_value', 'screen_time', 'activity_time']]\n",
    "y = final_df['value']\n",
    "\n",
    "# Split the data into training and testing sets\n",
    "X_train, X_test, y_train, y_test = train_test_split(X, y, test_size=0.2, random_state=42)\n",
    "\n",
    "\n",
    "# Step 2: Model Training\n",
    "regressor = DecisionTreeRegressor(random_state=42)\n",
    "regressor.fit(X_train, y_train)\n",
    "\n",
    "# Step 3: Model Evaluation\n",
    "y_pred = regressor.predict(X_test)\n",
    "mse = mean_squared_error(y_test, y_pred)\n",
    "print(\"Mean Squared Error:\", mse)"
   ]
  },
  {
   "cell_type": "code",
   "execution_count": null,
   "metadata": {},
   "outputs": [],
   "source": [
    "correlation_matrix = final_df.corr().abs()\n",
    "correlation_with_target = correlation_matrix['value'].drop('value')\n",
    "\n",
    "# Sort features based on their correlation with the target variable\n",
    "sorted_features = correlation_with_target.sort_values(ascending=False)\n"
   ]
  },
  {
   "cell_type": "code",
   "execution_count": null,
   "metadata": {},
   "outputs": [],
   "source": [
    "X = final_df.drop(columns=['value'])\n",
    "y = final_df['value']\n",
    "\n",
    "# Split the data into training and testing sets\n",
    "X_train, X_test, y_train, y_test = train_test_split(X, y, test_size=0.2, random_state=42)\n",
    "\n",
    "\n",
    "# Step 3: Define a model\n",
    "regressor = DecisionTreeRegressor(random_state=42)\n",
    "\n",
    "# Step 4: Iterative feature elimination\n",
    "n_features = X_train.shape[1]\n",
    "selected_features = sorted_features.index\n",
    "remaining_features = []\n",
    "\n",
    "\n",
    "scores = []\n",
    "for feature in selected_features:\n",
    "    remaining_features.append(feature)\n",
    "    X_train_subset = X_train[remaining_features]\n",
    "    X_test_subset = X_test[remaining_features]\n",
    "    regressor.fit(X_train_subset, y_train)\n",
    "    y_pred = regressor.predict(X_test_subset)\n",
    "    mse = mean_squared_error(y_test, y_pred)\n",
    "    scores.append((mse))\n",
    "    \n",
    "    # Remove the least important feature\n",
    "    scores.sort()\n",
    "    "
   ]
  },
  {
   "cell_type": "code",
   "execution_count": null,
   "metadata": {},
   "outputs": [],
   "source": [
    "selected_features"
   ]
  },
  {
   "cell_type": "code",
   "execution_count": null,
   "metadata": {},
   "outputs": [],
   "source": [
    "plt.plot(scores)"
   ]
  },
  {
   "cell_type": "code",
   "execution_count": null,
   "metadata": {},
   "outputs": [],
   "source": [
    "plt.scatter(final_df['valence_value'], final_df['value'])"
   ]
  },
  {
   "cell_type": "code",
   "execution_count": null,
   "metadata": {},
   "outputs": [],
   "source": [
    "plt.scatter(final_df['built_in_time'], final_df['value'])"
   ]
  },
  {
   "cell_type": "code",
   "execution_count": null,
   "metadata": {},
   "outputs": [],
   "source": []
  },
  {
   "cell_type": "code",
   "execution_count": null,
   "metadata": {},
   "outputs": [],
   "source": []
  },
  {
   "cell_type": "code",
   "execution_count": null,
   "metadata": {},
   "outputs": [],
   "source": []
  },
  {
   "cell_type": "code",
   "execution_count": null,
   "metadata": {},
   "outputs": [],
   "source": [
    "# Create multiple subplots for each column\n",
    "fig, axes = plt.subplots(5, 4, figsize=(15, 12))\n",
    "\n",
    "# Flatten the axes array for easy iteration\n",
    "axes = axes.flatten()\n",
    "\n",
    "# Plot each column in a separate subplot\n",
    "for i, column in enumerate(final_df.columns):\n",
    "    sns.boxplot(x=final_df[column], ax=axes[i])\n",
    "    axes[i].set_title(f'Box Plot of {column}')\n",
    "\n",
    "#Hide any unused subplots\n",
    "for j in range(len(df.columns), len(axes)):\n",
    "    axes[j].axis('off')\n",
    "\n",
    "plt.tight_layout()\n",
    "plt.show()"
   ]
  },
  {
   "cell_type": "code",
   "execution_count": null,
   "metadata": {},
   "outputs": [],
   "source": [
    "final_df.skew().sort_values(ascending=False)"
   ]
  },
  {
   "cell_type": "code",
   "execution_count": null,
   "metadata": {},
   "outputs": [],
   "source": []
  },
  {
   "cell_type": "code",
   "execution_count": null,
   "metadata": {},
   "outputs": [],
   "source": [
    "from sklearn.preprocessing import PowerTransformer"
   ]
  },
  {
   "cell_type": "code",
   "execution_count": null,
   "metadata": {},
   "outputs": [],
   "source": [
    "def yeojohntrans(feature):   # function to apply transformer and check the distribution with histogram and kdeplot\n",
    "    \n",
    "    yeojohnTr = PowerTransformer(standardize=True)   # not using method attribute as yeo-johnson is the default\n",
    "\n",
    "    # plt.figure(figsize=(15,6))\n",
    "    # plt.subplot(1,2,1)\n",
    "    # plt.title(\"Distribution before Transformation\", fontsize=15)\n",
    "    # sns.histplot(final_df[feature], kde=True, color=\"red\")\n",
    "    # plt.subplot(1,2,2)\n",
    "    \n",
    "    df_yeojohn = pd.DataFrame(yeojohnTr.fit_transform(final_df[feature].values.reshape(-1,1)))\n",
    "    # plt.title(\"Distribution after Transformation\", fontsize=15)\n",
    "    # sns.histplot(df_yeojohn,bins=20, kde=True , legend=False)\n",
    "    # plt.xlabel(feature)\n",
    "    # plt.show()\n",
    "    \n",
    "    print(f\"Skewness {round(df_yeojohn.skew()[0],2)} after Yeo-johnson transformation.\")\n",
    "    \n",
    "    return df_yeojohn\n",
    "    \n",
    "for column in final_df.columns:\n",
    "    if column != 'value':\n",
    "        final_df[column] = yeojohntrans(column)\n",
    "    "
   ]
  },
  {
   "cell_type": "code",
   "execution_count": null,
   "metadata": {},
   "outputs": [],
   "source": [
    "# Calculate correlation matrix\n",
    "corr_matrix = final_df .corr()\n",
    "\n",
    "# Plot correlation heatmap\n",
    "plt.figure(figsize=(10, 8))\n",
    "sns.heatmap(corr_matrix)\n",
    "plt.title('Correlation Matrix')\n",
    "plt.show()"
   ]
  },
  {
   "cell_type": "code",
   "execution_count": null,
   "metadata": {},
   "outputs": [],
   "source": [
    "plt.scatter( final_df['valence_value'], final_df['value'])"
   ]
  }
 ],
 "metadata": {
  "kernelspec": {
   "display_name": "base",
   "language": "python",
   "name": "python3"
  },
  "language_info": {
   "codemirror_mode": {
    "name": "ipython",
    "version": 3
   },
   "file_extension": ".py",
   "mimetype": "text/x-python",
   "name": "python",
   "nbconvert_exporter": "python",
   "pygments_lexer": "ipython3",
   "version": "3.11.5"
  }
 },
 "nbformat": 4,
 "nbformat_minor": 2
}
